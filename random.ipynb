{
 "cells": [
  {
   "cell_type": "markdown",
   "metadata": {},
   "source": [
    "# Analysing numpy.random package\n",
    "\n",
    "\n",
    "This notebook contains information about numpy.random package, which is a part of the numpy package for Python, which is defined as the fundamental package for scientific computation in Python. \n",
    "\n",
    "The main purpose of numpy.random sub-package is to generate random numbers, which are very useful for many practical applications in mathematics, statistics, computation, finance and, in general, scientific computation models.\n",
    "\n",
    "Although the above definition is quite straight-forward, there are many options included in this package, with the intention of covering many possible different specifications. Some features have been included in this package to manipulate and control the output and, thus, apply the most adecquate solutions for scientific analysis, facilitating this [otherwise mundane task.](https://hackaday.com/2009/05/26/dice-o-matic/)\n",
    "\n",
    "However, an important advice needs to be taken in consideration upfront: despite the inmense help that this tools provide to scientific analysis, once we dive deeper into the documentation it is clearly stated that these random generation tools (and most of similar ones), are not trully random, but based on an internal __pseudorandom number generator (PRNG)__, which is essentially any algorithm for generating seemingly random but still reproducible data. The truth is that most random numbers used in computer programs are pseudo-random. The numbers are generated in a predictable way, because the algorithm is deterministic. Pseudo-random numbers are good enough for many purposes, but it may not be \"true\" random numbers.\n",
    "\n",
    "Therefore, these tools should not be used for security purposes, such as password generation or encryption. There are specific tools in Python for that purpose, but those fall out of this investigation's scope.\n",
    "\n",
    "This investigation will attempt to analyse these random number generation processes which are included in numpy.random and illustrate its main characteristics and differences through some practical examples.\n"
   ]
  },
  {
   "cell_type": "code",
   "execution_count": null,
   "metadata": {},
   "outputs": [],
   "source": [
    "import numpy as np\n",
    "import matplotlib.pyplot as plt\n",
    "import pandas as pd"
   ]
  },
  {
   "cell_type": "markdown",
   "metadata": {},
   "source": [
    "Following this assignment's instructions, analysis will be divided into three separate sections:\n",
    "\n",
    "1. __Use of the “Simple random data” and “Permutations” functions.__\n",
    "2. __Use and purpose of five “Distributions” functions.__\n",
    "3. __Use of seeds in generating pseudorandom numbers.__\n"
   ]
  },
  {
   "cell_type": "markdown",
   "metadata": {},
   "source": [
    "## __1. Use of the \"Simple random data\" and \"Permutations\" functions.__\n",
    "\n",
    "Under this denomination there are different functions, as listed in the [official documentation](https://docs.scipy.org/doc/numpy/reference/routines.random.html):\n",
    "- rand(d0, d1, …, dn)\n",
    "- randn(d0, d1, …, dn)\n",
    "- randint(low[, high, size, dtype])\n",
    "- random_integers(low[, high, size]) \n",
    "- random_sample([size])\n",
    "- random([size])\n",
    "- ranf([size])\n",
    "- sample([size])\n",
    "- choice(a[, size, replace, p])\n",
    "- bytes(length): \n",
    "\n",
    "All these functions are quite similar, but there are some subtle differences that make one more suitable than the others depending on the particular circumstances or purposes for which they are used.\n",
    "\n",
    "Basically, all of them provide an array of random values, which is a foundational principle of, for example, probability computation and experimental design. In fact, naming these tools as _sampling_ tools is not arbitrary. \n",
    "\n",
    "Sampling is the process through which estimations in a population (N) can be made by observing a fraction of that population, called _sample_ (_n_). In order for this sample to be representative of the population N, their _distribution_ needs to be alike.\n",
    "\n",
    "Through this section we will use some of these sampling tools and try to show their differences and possible uses.\n",
    "\n",
    "### Rand Function\n",
    "```python\n",
    "np.random.rand(d0, d1, …, dn)\n",
    "```\n",
    "***\n",
    "As described on the documentation, rand function _\"create(s) an array of the given shape and populate it with random samples from a uniform distribution over 0 and 1\"._\n",
    "\n",
    "Using DataFrames we can easilly see how this values are distributed. In this case, over 5,000 random samples it clearly shows an even distribution, having the same possibilities of obtaining any value in the range.\n",
    "\n",
    "Thus, quartiles are roughly correspondant with the values. First quartile represents approximately 25% of the cases. Second quartile is 50%, and so on.\n",
    "\n",
    "Adding a second random variable to the plot, we can observe this 2-dimensional distribution as completely random."
   ]
  },
  {
   "cell_type": "code",
   "execution_count": null,
   "metadata": {},
   "outputs": [],
   "source": [
    "# Measures of central tendency with Panda Data Frames\n",
    "\n",
    "x= np.random.rand(5000)\n",
    "df = pd.DataFrame(x)\n",
    "print (df.describe())\n",
    "\n",
    "plt.hist(x)\n",
    "plt.show()\n",
    "\n",
    "# Plotting two random distributions (x,y)\n",
    "\n",
    "y= np.random.rand(5000)\n",
    "\n",
    "plt.plot(x,y,'y.', markersize=2)\n",
    "plt.show()"
   ]
  },
  {
   "cell_type": "markdown",
   "metadata": {},
   "source": [
    "### randn function\n",
    "As the precedent, this function also provides an array with n random values, but in this case these values are within a range defined by a __Normal Standard distribution__, having mean=0 and Variance=1, as shown in the below table:"
   ]
  },
  {
   "cell_type": "code",
   "execution_count": null,
   "metadata": {},
   "outputs": [],
   "source": [
    "x= np.random.randn(5000)\n",
    "df = pd.DataFrame(x)\n",
    "print (df.describe())"
   ]
  },
  {
   "cell_type": "markdown",
   "metadata": {},
   "source": [
    "If we plot this vector generated by randn, we can easily see the resemblance with the typical Gaussian bell-shape function, with most of the values around the average (0):"
   ]
  },
  {
   "cell_type": "code",
   "execution_count": null,
   "metadata": {},
   "outputs": [],
   "source": [
    "plt.hist(x, bins=50)"
   ]
  },
  {
   "cell_type": "markdown",
   "metadata": {},
   "source": [
    "### randint function\n",
    "In this case, random values obtained are integers in the specified interval, with the possibility to choose the the desired dtype of the output. Therefore, instead of a continous distribution, we are dealing with a discrete distribution, where values are finite. In the case below, this sample includes 5000 values between 0 and 9 (upper limit is not inclusive), but there are no values between any of the 10 members. For instance, a value will fall on 2 or 3, but never in between.\n",
    "\n",
    "In a conyinous distribution, the probability of obtaining a specific value is nearly 0, although ypu can calculate the probability to obtain values above or below a specific value. On the other hand, discrete distributions allow to calculate the occurrence of a specific value. Sometimes, for practical and analytical reasons, continous distributions can be transformed into discrete ones, as in the histograms plot for the __rand__ function.\n",
    "\n",
    "Some real-life examples of continous distributions can be time, distance or weight. And discrete variables can be years in your last bithday, number of kilometers and amount of kilograms. Note that the aforementioned variables can be either continous or discrete, depending on the precission of the measure and the purpose of the analysis.\n",
    "\n",
    "Example of discrete variable: "
   ]
  },
  {
   "cell_type": "code",
   "execution_count": null,
   "metadata": {
    "scrolled": false
   },
   "outputs": [],
   "source": [
    "x=np.random.randint(0,10,5000)\n",
    "plt.hist(x)\n",
    "df = pd.DataFrame(x)\n",
    "print (df.describe())"
   ]
  },
  {
   "cell_type": "markdown",
   "metadata": {},
   "source": [
    "### sample, random_sample, random & ranf functions\n",
    "These four are aliases for the same function, and can be used indiscriminately.\n",
    "\n",
    "Returns an array of random float values between 0 and 1 (not inclusive) from the continuous uniform distribution, where all outcomes in a range between a minimum and maximum value are equally likely.\n",
    "\n",
    "This distribution is used in statistics. A sample from this distribution (between zero and one) can be used to generate random samples from other distributions (by inversion of the cumulative form of the  distribution)."
   ]
  },
  {
   "cell_type": "code",
   "execution_count": null,
   "metadata": {},
   "outputs": [],
   "source": [
    "a= np.random.random_sample(10)\n",
    "b= np.random.sample(10)\n",
    "c= np.random.random(10)\n",
    "d= np.random.ranf(10)\n",
    "print (a, b, c, d)"
   ]
  },
  {
   "cell_type": "markdown",
   "metadata": {},
   "source": [
    "### byte function\n",
    "As explained in the first section, this package aims to facilitate tasks for analysis. This particular function is also providing random results, but in this case the only input is the length of the results and the output returns __bytes__."
   ]
  },
  {
   "cell_type": "code",
   "execution_count": null,
   "metadata": {},
   "outputs": [],
   "source": [
    "np.random.bytes(1)"
   ]
  },
  {
   "cell_type": "markdown",
   "metadata": {},
   "source": [
    "### choice function\n",
    "\n",
    "This function, instead of generating an array of random values within a range, takes an array as input and randomly selects among its members. \n",
    "\n",
    "By default, uniform distribution is used to make the selection, but probailities can be specified with the parameter _p_.\n",
    "\n",
    "The main difference with other similar functions is the fact that results might be generated for a non-uniform distribution by modifying the _p_ value:"
   ]
  },
  {
   "cell_type": "code",
   "execution_count": null,
   "metadata": {
    "scrolled": true
   },
   "outputs": [],
   "source": [
    "unif=np.random.choice(4,10) #Uniform distribution: 2 random values from 0 to 3. \n",
    "print(unif)#The same result is obtained with np.random.ranint(0,4,2)\n",
    "\n",
    "nonun=np.random.choice(4,10,p=[0.1,0.1,0.1,0.7]) #Probability of obtaining '3' is 7 times more likely\n",
    "print(nonun)"
   ]
  },
  {
   "cell_type": "markdown",
   "metadata": {},
   "source": [
    "Additionally, a replacement parameter can be switched off, preventing the function to select a previously selected value in the input array. However, this is also activated by default when using ___random.sample___ function This feature is quite useful for Combinatorics operations.\n",
    "\n",
    "As defined by Wolfram MathWorld:\n",
    "> _Combinatorics is the branch of mathematics studying the enumeration, combination, and permutation of sets of elements and the mathematical relations that characterize their properties._ \n",
    "\n",
    "Basically, the two main components in combinatronics are __combinations__ and __permutations__. \n",
    "\n",
    "__Combinations__ are the possible outputs when taking _r_ elements from a pool of _n_ elements. \n",
    "\n",
    "$$nCr = \\frac{n!}{r!(n-r)!}$$\n",
    "\n",
    "This elements can be replaced after every extraction or not. This is especially useful when using categorical variables, such as an array composed by unique, non-countable values, in the form of strings:"
   ]
  },
  {
   "cell_type": "code",
   "execution_count": null,
   "metadata": {},
   "outputs": [],
   "source": [
    "# Superhero/villain generator. Try different random combinations!\n",
    "a = np.random.choice(['Amazing','Mighty', 'Lousy', 'Hectic', 'Healthy','Politically Incorrect'])\n",
    "b = np.random.choice(['Blue', 'Flying', 'Magenta', 'Transparent','Left-handed'])\n",
    "c = np.random.choice(['Cucumber', 'Teddy Bear', 'Postman', 'Wizard','Worm','Siameses','Dolphin','Crab'])\n",
    "d = np.random.choice(['the Moon','Galway', 'Hell', 'Mars', 'the Future','the Past'])\n",
    "print(\"Behold the\",a,b,c,\"from\",d,\"!\")"
   ]
  },
  {
   "cell_type": "markdown",
   "metadata": {},
   "source": [
    "Permutations are similar, but in this case the __order__ in which those _n_ elements are selected is also taken in consideration. Basically, we can define permutations as _n_ distinct objects taken _r_ at a time. \n",
    "\n",
    "There are two types of permutation:\n",
    "\n",
    "- __Permutations with repetitions__: such as lottery numbers, which can have the same number repeated.\n",
    "> In this example, _n_ are all digits from 0 to 9 and _r_ is 5 (length of a lottery number).To calculate all the possible arrangements in which _n_ elements can be displayed we can just multiply _n_ by itself _r_ times.$$n^r$$\n",
    ">> 10 (_n_) elements multiplied by itself 5 (_r_) times = 100,000 possible combinations.\n",
    "- __No Repetition__: for example the first three people in a running race. You can't be first and second.\n",
    "> _n_ is the total number of participants in the race and _r_ are the three first runners. \n",
    ">The calculation is denoted by  $$nPr =\\frac{n!}{(n - r)!}$$ \n",
    ">> Given that there are 500 runners participating in this race, the possible combinations in which three different runners can finish first, second an third are 500!/(500-3)!=500!/497!. This is equivalent to 500 X 499 X 498 = 124,251,000 different ways in which the different runners could finish in the podium.\n",
    "\n",
    "No wonder why we are always encouraged to create long passwords. With any new character added to our passwors we are multiplying the possible outcomes and, therefore, making more difficult for scammers to crack our passwords by trial-error method. Especially because scammers are also using computational tools than can try millions of different combinations in seconds. A small study about this can be found in [this link](https://math.stackexchange.com/questions/739874/how-many-possible-combinations-in-8-character-password)"
   ]
  },
  {
   "cell_type": "code",
   "execution_count": null,
   "metadata": {},
   "outputs": [],
   "source": [
    "#Lottery (5 numbers length) \n",
    "lotto=10**5\n",
    "print (lotto)\n",
    "#Possible arrangements for three runners in the first places in a 500 participants race:\n",
    "race=500*499*498\n",
    "print (race)"
   ]
  },
  {
   "cell_type": "markdown",
   "metadata": {},
   "source": [
    "There are two functions included in the random package that deal with permutations:\n",
    "- shuffle(x)\n",
    "    Modify a sequence in-place by shuffling its contents.\n",
    "\n",
    "    This function only shuffles the array along the first axis of a multi-dimensional array. The order of sub-arrays is changed but their contents remains the same.\n",
    "\n",
    "\n",
    "- permutations(x)\n",
    "    Randomly permute a sequence, or return a permuted range.\n",
    "\n",
    "    If x is a multi-dimensional array, it is only shuffled along its first index.\n",
    "\n",
    "Thus, these two functions are doing basically the same operation. However, np.random.permutation has two differences from np.random.shuffle:\n",
    "\n",
    "    if passed an array, it will return a shuffled copy of the array; np.random.shuffle shuffles the array inplace\n",
    "    if passed an integer, it will return a shuffled range i.e. np.random.shuffle(np.arange(n))\n",
    "    \n",
    "   Taken from [this StackOverflow entry](https://stackoverflow.com/questions/15474159/shuffle-vs-permute-numpy#15474335)"
   ]
  },
  {
   "cell_type": "code",
   "execution_count": null,
   "metadata": {
    "scrolled": true
   },
   "outputs": [],
   "source": [
    "# Creating a list from 0 to 9\n",
    "c=np.arange(10)\n",
    "print (\"Numbers in order: \",c)\n",
    "# Shuffling the above list\n",
    "np.random.shuffle(c)\n",
    "print (\"Numbers shuffled: \",c)\n",
    "# Creating a permutation of a list from 0 to 9\n",
    "d=np.random.permutation(10)\n",
    "print (\"numbers permuted: \",d)"
   ]
  },
  {
   "cell_type": "markdown",
   "metadata": {},
   "source": [
    "## __2. Use and purpose of five “Distributions” functions.__\n",
    "\n",
    "Until now we have named two different distributions when investigating random functions in NumPy: linear continous distribution and standard normal distribution. We have also specified some differences between continous and discrete distributions. But before proceeding, we need some deeper understanding about probability distributions. We will use Stat Trek's definition, as seen [here](https://stattrek.com/probability-distributions/discrete-continuous.aspx?tutorial=prob).\n",
    "\n",
    ">All probability distributions can be classified as __discrete__ probability distributions or as __continuous__ probability distributions, depending on whether they define probabilities associated with discrete variables or continuous variables (as seen in the Superhero/villain generator).\n",
    "\n",
    ">If a random variable is a discrete variable, its probability distribution is called a discrete probability distribution. With a discrete probability distribution, each possible value of the discrete random variable can be associated with a non-zero probability. Thus, a discrete probability distribution can always be presented in tabular form.\n",
    "\n",
    ">If a random variable is a continuous variable, its probability distribution is called a continuous probability distribution. A continuous probability distribution differs from a discrete probability distribution in several ways.\n",
    "- The probability that a continuous random variable will assume a particular value is zero.\n",
    "- As a result, a continuous probability distribution cannot be expressed in tabular form.\n",
    "- Instead, an equation or formula is used to describe a continuous probability distribution.\n",
    "\n",
    ">Most often, the equation used to describe a continuous probability distribution is called a __probability density function (PDF)__. For a continuous probability distribution, the density function has the following properties:\n",
    "- Since the continuous random variable is defined over a continuous range of values (called the domain of the variable), the graph of the density function will also be continuous over that range.\n",
    "- The area bounded by the curve of the density function and the x-axis is equal to 1, when computed over the domain of the variable.\n",
    "- The probability that a random variable assumes a value between a and b is equal to the area under the density function bounded by a and b.\n",
    "\n",
    "In order to cover both types of distribution, discrete and continous, we will see examples of a __Poisson distribution__ as discrete and __Normal, Log-normal, Chi-square__ and __Exponential__ distributions."
   ]
  },
  {
   "cell_type": "markdown",
   "metadata": {},
   "source": [
    "### Poisson Distribution\n",
    "As explained above, Poisson distribution falls under the __discrete__ probability distributions. It is usually used to estimate the number of times an event occurs in a given interval of time or space.\n",
    "\n",
    "For events with an expected separation $\\lambda$ the Poisson distribution $f(k; \\lambda)$ describes the probability of k events occurring within the observed interval $\\lambda$.\n",
    "\n",
    "__Requisites__:\n",
    "The probability distribution depends on a binomial distribution and the number of trials is bigger than the number of successes. Additionally, events need to be independent. _k_ is the number of times an event occurs in an interval and _k_ can take discrete values.\n",
    "\n",
    "For instance, in a printing press it has been observed that for every sample of 100 pages printed, there is an average number of typos of 4. In order to estimate the number of typos in 5000 samples (500000 pages) a Poisson probability distribution is calculated. Additionally, a new software for typographic errors detection is being offered to the company, which states that their average typo rate is as low as 2 typos every 5000 samples.\n",
    "\n",
    "Both Poisson distributions are analysed in order to take the decission of investing in this software or not."
   ]
  },
  {
   "cell_type": "code",
   "execution_count": null,
   "metadata": {},
   "outputs": [],
   "source": [
    "# Current number of typos\n",
    "data = np.random.poisson(4, 5000)\n",
    "plt.hist(data, bins=20, label='$\\lambda$=4',density=True)\n",
    "\n",
    "# Number of typos with the new software\n",
    "data2 = np.random.poisson(2,5000)\n",
    "plt.hist(data2, bins=20, label='$\\lambda$=2', density=True)\n",
    "plt.legend()\n",
    "plt.title('Poisson Distribution')\n"
   ]
  },
  {
   "cell_type": "markdown",
   "metadata": {},
   "source": [
    "### Normal distribution\n",
    "The normal distribution refers to a family of continuous probability distributions described by the normal equation. The normal equation is the probability density function for the normal distribution.\n",
    "\n",
    "$$p(x;\\mu, \\sigma^2) = \\frac{1}{\\sigma \\sqrt{2 \\pi}} e^{\\frac{-1}{2}\\left(\\frac{x - \\mu}{\\sigma} \\right)^2}$$\n",
    "\n",
    "The normal curve shape depends on two factors: mean and standard deviation. Its charcateristic bell-shape is defined by being symetrical to the central value (mean) and the distribution of smaller values around it.\n",
    "\n",
    "Normal distribution assumes that, given a sufficient number of observations, these will be distributed evenly, and the interferences (error) are also evenly distributed. There are several methods to test if a distribution falls under the normal distribution and, thus, its characteristics can be applied for probabilistic calculations.\n",
    "\n",
    "This distribution is well-known and widely used in probabilistics. Disciplines such as psychology, finance, sociology, pharmacy or biology use probability calculations based on this distribution to establish the validity of their researches.\n",
    "\n",
    "Every normal distribution (standarised or not) follows a simple rule, according to which, values in the range of 1 standard deviation from the mean comprise 68.3% of the values. In the range of 2 standard deviations, 95.4%. And finally, in the range of 3 standard deviations, 99.7% of the values.\n",
    "\n",
    "The _standard normal distribution_ is a special case with mean=0 and StDeviation=1.0"
   ]
  },
  {
   "cell_type": "code",
   "execution_count": null,
   "metadata": {},
   "outputs": [],
   "source": [
    "mu=0 #mean\n",
    "sigma = 1 # standard deviation\n",
    "\n",
    "#Plotting distribution histogram\n",
    "s = np.random.normal(mu, sigma,10000)\n",
    "plt.hist(s, 30, density=True, color='c')\n",
    "# Applying the normal curve function and plotting (from Numpy documentation)\n",
    "plt.plot(bins, 1/(sigma * np.sqrt(2 * np.pi)) *np.exp( - (bins - mu)**2 / (2 * sigma**2) ),linewidth=2, color='r')\n",
    "plt.ylabel('frequency')\n",
    "plt.title('Standard Normal distribution and Gaussian bell')\n"
   ]
  },
  {
   "cell_type": "markdown",
   "metadata": {},
   "source": [
    "### Log-normal distribution\n",
    "This distribution is denotated by the formula \n",
    "\n",
    "$$p(x;\\mu, \\sigma) = \\frac{1}{ x \\sigma \\sqrt{2 \\pi}} e^{\\frac{-1}{2}\\left(\\frac{\\ln x - \\mu}{\\sigma} \\right)^2}$$\n",
    "\n",
    "Where x>0 and parameters $\\mu$ and $\\sigma$ >0 are all real numbers.\n",
    "\n",
    "This distribution is a a probability distribution of a random variable which is normally distributed. A variable can be modelled as log-normal if it is a product of several small independent factors. A typicall example is the long-term return of investemnt, which can be consdiered as he product of several daily returns.\n",
    "\n",
    "Log-normal distribution is applicable to random variables limited by 0, but with not many high values. It is a distribution with positive assimetry. Some practical examples for which we can use this type of distribution are:\n",
    "- Weight in adults\n",
    "- Mineral concentration in a deposit\n",
    "- Wealth distribution\n",
    "- Long-term return of investment\n",
    "\n",
    "This function draws samples from a log-normal distribution with specified mean, standard deviation, and array shape. Note that the mean and standard deviation are not the values for the distribution itself, but of the underlying normal distribution it is derived from."
   ]
  },
  {
   "cell_type": "code",
   "execution_count": null,
   "metadata": {},
   "outputs": [],
   "source": [
    "mu= 3 # Mean\n",
    "sigma = 1.25 # StDeviation\n",
    "lognormal = np.random.lognormal(mu,sigma,500)\n",
    "plt.hist(lognormal, 100, density=True, align='mid')\n",
    "plt.title('Log-normal Distribution')\n",
    "plt.ylabel('probability')\n",
    "plt.show()"
   ]
  },
  {
   "cell_type": "markdown",
   "metadata": {},
   "source": [
    "### Chi-square distribution\n",
    "\n",
    "this distribution is defined by the following formula:\n",
    "\n",
    "$$p(x; n) = \\frac{\\left(\\frac{x}{2}\\right)^{\\frac{n}{2}-1} e^{\\frac{-x}{2}}}{2\\Gamma \\left(\\frac{n}{2}\\right)}$$\n",
    "\n",
    "where ${x}$ is a positive number and $n$ represents the degrees of freedom, which is a positive integer. $\\Gamma$ is a representation of Gamma function.\n",
    "\n",
    "The main application of this distribution is related to inferential statistics and specifically with analysis of variance.\n",
    "\n",
    "This distribution is widely used to assess the adjustment of a predicition model. For instance, in Social Sciences the chi-square test is commonly applied to stablish if a sample taken from a population can be considered as representative of a known theoretical distribution. By definition, there will always be deviations between the empiric distribution (sample) and the theoretical. Chi-square test aims to determine if these deviations are stochastic or are due to inappropiate sampling.\n",
    "\n",
    "A common application is also to test the dependency between two variables, again through the analysis of their variances and by mean of an hypothesis test."
   ]
  },
  {
   "cell_type": "code",
   "execution_count": null,
   "metadata": {},
   "outputs": [],
   "source": [
    "rnd = np.random.chisquare(7,1000) # generates random chi-square values\n",
    "plt.hist(rnd, 20)\n",
    "plt.ylabel('frequency')\n",
    "plt.title('Chi-square histogram')\n",
    "plt.show()\n",
    "\n"
   ]
  },
  {
   "cell_type": "markdown",
   "metadata": {},
   "source": [
    "### Exponential distribution\n",
    "\n",
    "Given by the function $$p(x;\\beta) = \\frac{1}{ \\beta} e^{\\frac{-x}{\\beta}}$$\n",
    "\n",
    "Where $x$ variable and parameter $\\beta$ are real and positive numbers.\n",
    "\n",
    "This distribution describes the probability of an event occurring between two timeframes.\n",
    "\n",
    "Applying to $x$ the same requisites described for a Poisson distribution, we can assume it is an independent sequence of random variables, and we start to estimate the event occurrence at the rate of $\\beta$, the average number of occurrences per interval.\n",
    "\n",
    "Exponential distribution can be applied in studies about the desintegrtion of a radioactive atom, or any time event in a Poisson process, where events occur ar a constant rate.\n",
    "\n",
    "In this case, using the same data from our Poisson distribution and the typographic correction software:\n"
   ]
  },
  {
   "cell_type": "code",
   "execution_count": null,
   "metadata": {},
   "outputs": [],
   "source": [
    "# Current number of typos\n",
    "data = np.random.exponential(4, 5000)\n",
    "plt.hist(data, bins=20, label='$\\lambda$=4',density=True)\n",
    "\n",
    "# Number of typos with the new software\n",
    "data2 = np.random.exponential(2,5000)\n",
    "plt.hist(data2, bins=20, label='$\\lambda$=2', density=True)\n",
    "plt.legend()\n",
    "plt.title('Exponential Distribution')"
   ]
  },
  {
   "cell_type": "markdown",
   "metadata": {},
   "source": [
    "## 3. __Use of seeds in generating pseudorandom numbers.__\n",
    "\n",
    "As explained in the introduction paragraph, computers, whilst more capable than humans of generating random numbers, they still use some pattern. In fact, computational random generation should not be called random, since it is based on a pseudo-random number generator (PRNG). \n",
    "\n",
    "According to [this StackOverflow entry](https://stackoverflow.com/questions/21494489/what-does-numpy-random-seed0-do#21494630), _\"(pseudo-)random numbers work by starting with a number (the seed), multiplying it by a large number, then taking modulo of that product. The resulting number is then used as the seed to generate the next \"random\" number. When you set the seed (every time), it does the same thing every time, giving you the same numbers.\"_\n",
    "\n",
    "However, under certain circumstances, such as debugging your code or testing some functions, we need some sort of control over the (pseudo)random number generation in Python. The seed function allows us to manipulate this PRNG and control the outputs.\n",
    "\n",
    "Calling this function, as the aforementioned source explains, _\"(...) will cause numpy to set the seed to a random number obtained from /dev/urandom or its Windows analog or, if neither of those is available, it will use the clock.\"_\n",
    "\n",
    "Seeding a pseudo-random number generator gives it its first value. Each seed value will correspond to a sequence of generated values for a given random number generator. That is, if you provide the same seed twice, you get the same sequence of numbers twice.\n",
    "\n",
    "Let's test this seed function:"
   ]
  },
  {
   "cell_type": "code",
   "execution_count": null,
   "metadata": {},
   "outputs": [],
   "source": [
    "seed=int(input(\"Insert seed \"))\n",
    "for i in range(5):\n",
    "    set = np.arange(10) \n",
    "    np.random.seed(seed)  \n",
    "    np.random.shuffle(set) \n",
    "    print (set)"
   ]
  },
  {
   "cell_type": "markdown",
   "metadata": {},
   "source": [
    "### numpy.random.RandomState function\n",
    "\n",
    "This function refers to the container for the Mersenne Twister pseudo-random number generator used  by numpy.\n",
    "\n",
    "By calling this function the PRNG can be modified to use different probability distributions.\n",
    "\n",
    "While np.random.seed(0) resets the state of the existing global RandomState instance, np.random.RandomState(0) returns a new seeded RandomState instance but otherwise does not change anything. \n",
    "\n",
    "Therefore, should you need to create different random libraries, using different RandomState for each will maintain consistency, while, as described above, using seed will use the global RandomState.\n"
   ]
  },
  {
   "cell_type": "code",
   "execution_count": null,
   "metadata": {},
   "outputs": [],
   "source": [
    "rnd1 = np.random.RandomState(123)\n",
    "print(rnd1.randint(1, 100, size=10))\n",
    "\n",
    "rnd2 = np.random.RandomState(123)\n",
    "print(rnd2.randint(1, 100, size=10))"
   ]
  },
  {
   "cell_type": "markdown",
   "metadata": {},
   "source": [
    "### np.random.get_state and np.random.set_state functions\n",
    "\n",
    "As explained in the documentation, np.random.get_state provides a tuple representing the internal state of the generator.\n",
    "\n",
    "And as can be easily understood, np.random.set_state() allows to modify this internal state of the PRNG."
   ]
  },
  {
   "cell_type": "code",
   "execution_count": null,
   "metadata": {},
   "outputs": [],
   "source": [
    "np.random.get_state()"
   ]
  }
 ],
 "metadata": {
  "celltoolbar": "Raw Cell Format",
  "kernelspec": {
   "display_name": "Python 3",
   "language": "python",
   "name": "python3"
  },
  "language_info": {
   "codemirror_mode": {
    "name": "ipython",
    "version": 3
   },
   "file_extension": ".py",
   "mimetype": "text/x-python",
   "name": "python",
   "nbconvert_exporter": "python",
   "pygments_lexer": "ipython3",
   "version": "3.6.4"
  }
 },
 "nbformat": 4,
 "nbformat_minor": 2
}
