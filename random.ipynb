{
 "cells": [
  {
   "cell_type": "markdown",
   "metadata": {},
   "source": [
    "# Analysing numpy.random package\n",
    "\n",
    "\n",
    "This notebook contains information about numpy.random package, which is a part of the numoy package for Python. \n",
    "\n",
    "The main purpose of this sub-package is to generate random numbers, which are very useful for many practical applications in mathematics.\n",
    "\n",
    "This investigation will attempt to analyse the different approaches to this random number genartion processes which are included in numpy.random\n"
   ]
  },
  {
   "cell_type": "code",
   "execution_count": 2,
   "metadata": {},
   "outputs": [],
   "source": [
    "import numpy as np\n",
    "import matplotlib.pyplot as plt\n",
    "import pandas as pd"
   ]
  },
  {
   "cell_type": "code",
   "execution_count": null,
   "metadata": {},
   "outputs": [],
   "source": []
  },
  {
   "cell_type": "markdown",
   "metadata": {},
   "source": [
    "## Simple random data\n",
    "\n",
    "Under this denomination there are different functions, as listed below:\n",
    "- rand(d0, d1, …, dn)\n",
    "- randn(d0, d1, …, dn)\n",
    "- randint(low[, high, size, dtype])\n",
    "- random_integers(low[, high, size]) \n",
    "- random_sample([size])\n",
    "- random([size])\n",
    "- ranf([size])\n",
    "- sample([size])\n",
    "- choice(a[, size, replace, p])\n",
    "- bytes(length): \n",
    "\n",
    "\n",
    "\n",
    "### Rand Function\n",
    "As described on the documentation, rand function \"create(s) an array of the given shape and populate it with random samples from a uniform distribution over 0 and 1\".\n",
    "\n",
    "Using DataFrames we can easilly see how this values are distributed. In this case, over 5,000 random samples it clearly shows an even distribution, having the same possibilities of obtaining any value in the range.\n",
    "\n",
    "Thus, quartiles are roughly correspondant with the values. First quartile represents approximately 25% of the cases. Second quartile is 50%, and so on.\n",
    "\n",
    "Adding a second random variable to the plot, we can also observe this distribution. "
   ]
  },
  {
   "cell_type": "code",
   "execution_count": 15,
   "metadata": {},
   "outputs": [
    {
     "name": "stdout",
     "output_type": "stream",
     "text": [
      "                 0\n",
      "count  5000.000000\n",
      "mean      0.497705\n",
      "std       0.286824\n",
      "min       0.000028\n",
      "25%       0.246084\n",
      "50%       0.498436\n",
      "75%       0.740751\n",
      "max       0.999902\n"
     ]
    },
    {
     "data": {
      "image/png": "[encoded data removed]",
      "text/plain": [
       "<matplotlib.figure.Figure at 0x7fdb706c1080>"
      ]
     },
     "metadata": {},
     "output_type": "display_data"
    },
    {
     "data": {
      "image/png": "[encoded data removed]",
      "text/plain": [
       "<matplotlib.figure.Figure at 0x7fdb705d50f0>"
      ]
     },
     "metadata": {},
     "output_type": "display_data"
    }
   ],
   "source": [
    "# Measures of central tendency with Panda Data Frames\n",
    "\n",
    "x= np.random.rand(5000)\n",
    "df = pd.DataFrame(x)\n",
    "print (df.describe())\n",
    "\n",
    "plt.hist(x)\n",
    "plt.show()\n",
    "\n",
    "# Plotting two random distributions (x,y)\n",
    "\n",
    "y= np.random.rand(5000)\n",
    "\n",
    "plt.plot(x,y)\n",
    "plt.show()"
   ]
  },
  {
   "cell_type": "markdown",
   "metadata": {},
   "source": [
    "## randn function\n",
    "As the precedent, this function also provides an array with n random values, but within a range defined by a Gaussian distribution. Among normal or gaussian distributions are characterised for having mean=0 and Variance=1, as shown (roughly) in the below table:"
   ]
  },
  {
   "cell_type": "code",
   "execution_count": 16,
   "metadata": {},
   "outputs": [
    {
     "name": "stdout",
     "output_type": "stream",
     "text": [
      "                 0\n",
      "count  5000.000000\n",
      "mean     -0.027642\n",
      "std       1.007780\n",
      "min      -3.911725\n",
      "25%      -0.699924\n",
      "50%      -0.034924\n",
      "75%       0.639326\n",
      "max       3.408772\n"
     ]
    }
   ],
   "source": [
    "x= np.random.randn(5000)\n",
    "df = pd.DataFrame(x)\n",
    "print (df.describe())"
   ]
  },
  {
   "cell_type": "markdown",
   "metadata": {},
   "source": [
    "## randint function\n",
    "In this case, random values obtained are integers in the specified interval, with the possibility to choose the the desired dtype of the output.\n",
    "\n",
    "## random_integers function\n",
    "Similar to randint. In particular, this is the one to use to generate uniformly distributed discrete non-integers. "
   ]
  },
  {
   "cell_type": "code",
   "execution_count": 4,
   "metadata": {},
   "outputs": [
    {
     "name": "stderr",
     "output_type": "stream",
     "text": [
      "/home/luis/anaconda3/lib/python3.6/site-packages/ipykernel_launcher.py:3: DeprecationWarning: This function is deprecated. Please call randint(0, 9 + 1) instead\n",
      "  This is separate from the ipykernel package so we can avoid doing imports until\n"
     ]
    },
    {
     "data": {
      "text/plain": [
       "(array([491., 492., 514., 518., 502., 499., 508., 495., 476., 505.]),\n",
       " array([0. , 0.9, 1.8, 2.7, 3.6, 4.5, 5.4, 6.3, 7.2, 8.1, 9. ]),\n",
       " <a list of 10 Patch objects>)"
      ]
     },
     "execution_count": 4,
     "metadata": {},
     "output_type": "execute_result"
    },
    {
     "data": {
      "image/png": "[encoded data removed]",
      "text/plain": [
       "<matplotlib.figure.Figure at 0x7f031b73b2e8>"
      ]
     },
     "metadata": {},
     "output_type": "display_data"
    }
   ],
   "source": [
    "x=np.random.randint(0,10,size=5000)\n",
    "plt.hist(x)\n",
    "x=np.random.random_integers (0,9, size=5000)\n",
    "plt.hist(x)"
   ]
  },
  {
   "cell_type": "code",
   "execution_count": null,
   "metadata": {},
   "outputs": [],
   "source": []
  },
  {
   "cell_type": "code",
   "execution_count": null,
   "metadata": {},
   "outputs": [],
   "source": []
  },
  {
   "cell_type": "markdown",
   "metadata": {},
   "source": [
    "## sample, random_sample, random & ranf functions\n",
    "These four are aliases for the same function, and can be used indiscriminately.\n",
    "\n",
    "Returns an array of random float values between 0 and 1 (not inclusive) from the continuous uniform distribution, where all outcomes in a range between a minimum and maximum value are equally likely.\n",
    "\n",
    "This distribution is used in statistics. A sample from this distribution (between zero and one) can be used to generate random samples from other distributions (by inversion of the cumulative form of the  distribution)."
   ]
  },
  {
   "cell_type": "code",
   "execution_count": 23,
   "metadata": {},
   "outputs": [
    {
     "name": "stdout",
     "output_type": "stream",
     "text": [
      "[0.92702076 0.86804642 0.01396217 0.64455916 0.55038714 0.51428803\n",
      " 0.95746345 0.55969865 0.28558102 0.18336655] [0.17988161 0.80848932 0.29406337 0.59830581 0.98035233 0.51053057\n",
      " 0.50671833 0.98725969 0.57502587 0.08576467] [0.70319202 0.34287796 0.28862024 0.34476727 0.21855267 0.66547429\n",
      " 0.94839266 0.75699259 0.20575444 0.80768439] [0.99302523 0.21625999 0.64841034 0.58395798 0.17594742 0.37728613\n",
      " 0.21340665 0.61189549 0.2837987  0.28873999]\n"
     ]
    }
   ],
   "source": [
    "a= np.random.random_sample(10)\n",
    "b= np.random.sample(10)\n",
    "c= np.random.random(10)\n",
    "d= np.random.ranf(10)\n",
    "print (a, b, c, d)\n"
   ]
  },
  {
   "cell_type": "markdown",
   "metadata": {},
   "source": [
    "## choice function"
   ]
  },
  {
   "cell_type": "code",
   "execution_count": null,
   "metadata": {},
   "outputs": [],
   "source": []
  }
 ],
 "metadata": {
  "kernelspec": {
   "display_name": "Python 3",
   "language": "python",
   "name": "python3"
  },
  "language_info": {
   "codemirror_mode": {
    "name": "ipython",
    "version": 3
   },
   "file_extension": ".py",
   "mimetype": "text/x-python",
   "name": "python",
   "nbconvert_exporter": "python",
   "pygments_lexer": "ipython3",
   "version": "3.6.4"
  }
 },
 "nbformat": 4,
 "nbformat_minor": 2
}
